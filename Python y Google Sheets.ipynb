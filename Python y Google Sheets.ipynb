{
 "cells": [
  {
   "cell_type": "markdown",
   "id": "f528a1c4",
   "metadata": {},
   "source": [
    "# Imports"
   ]
  },
  {
   "cell_type": "code",
   "execution_count": 1,
   "id": "d940e356",
   "metadata": {},
   "outputs": [],
   "source": [
    "import os\n",
    "import pandas as pd\n",
    "import openpyxl"
   ]
  },
  {
   "cell_type": "code",
   "execution_count": 2,
   "id": "273c39e6",
   "metadata": {},
   "outputs": [],
   "source": [
    "import xlsxwriter"
   ]
  },
  {
   "cell_type": "code",
   "execution_count": 3,
   "id": "bcbd7abc",
   "metadata": {},
   "outputs": [
    {
     "data": {
      "text/plain": [
       "'3.2.0'"
      ]
     },
     "execution_count": 3,
     "metadata": {},
     "output_type": "execute_result"
    }
   ],
   "source": [
    "xlsxwriter.__version__"
   ]
  },
  {
   "cell_type": "code",
   "execution_count": 4,
   "id": "419ba08c",
   "metadata": {},
   "outputs": [
    {
     "data": {
      "text/plain": [
       "'3.1.2'"
      ]
     },
     "execution_count": 4,
     "metadata": {},
     "output_type": "execute_result"
    }
   ],
   "source": [
    "openpyxl.__version__"
   ]
  },
  {
   "cell_type": "code",
   "execution_count": 5,
   "id": "2a964444",
   "metadata": {},
   "outputs": [
    {
     "data": {
      "text/plain": [
       "'2.2.1'"
      ]
     },
     "execution_count": 5,
     "metadata": {},
     "output_type": "execute_result"
    }
   ],
   "source": [
    "pd.__version__"
   ]
  },
  {
   "cell_type": "code",
   "execution_count": 6,
   "id": "7264508e",
   "metadata": {},
   "outputs": [],
   "source": [
    "from helpers import create_dummy_xslx_file"
   ]
  },
  {
   "cell_type": "markdown",
   "id": "8aa54ce1",
   "metadata": {},
   "source": [
    "# Create Dummy Excel File"
   ]
  },
  {
   "cell_type": "code",
   "execution_count": 7,
   "id": "14103c2e",
   "metadata": {},
   "outputs": [],
   "source": [
    "create_dummy_xslx_file()"
   ]
  },
  {
   "cell_type": "markdown",
   "id": "f44a7e46",
   "metadata": {},
   "source": [
    "# GLOBAL_VARS"
   ]
  },
  {
   "cell_type": "code",
   "execution_count": 8,
   "id": "1cbf527b",
   "metadata": {},
   "outputs": [],
   "source": [
    "CWD = os.getcwd()\n",
    "# CWD = \"/content/drive/MyDrive/\"\n",
    "PATH_TO_INDEX = os.path.join(CWD, \"folders\")\n",
    "\n",
    "FOLDERS = [\"folder_1\", \"folder_2\", \"folder_3\"]\n",
    "EXCEL_FILE_PATH = os.path.join(CWD, \"agg.xlsx\")\n",
    "EXCEL_FILE_PATH_TEMP = os.path.join(CWD, \"agg_.xlsx\")"
   ]
  },
  {
   "cell_type": "markdown",
   "id": "fa98b971",
   "metadata": {},
   "source": [
    "# Helpers"
   ]
  },
  {
   "cell_type": "code",
   "execution_count": 9,
   "id": "52bd8e3b",
   "metadata": {},
   "outputs": [],
   "source": [
    "def read_excel_specific_sheet(excel_path, excel_sheet_name):\n",
    "    \n",
    "    df = pd.read_excel(excel_path, sheet_name = excel_sheet_name)\n",
    "    \n",
    "    return df\n",
    "\n",
    "\n",
    "def index_files(path, stored_files = []):\n",
    "    \n",
    "    folder_name = path.split(os.path.sep)[-1]\n",
    "    files = [file for file in os.listdir(path = path) if file not in stored_files]\n",
    "    df = pd.DataFrame(files).rename(columns = {0:folder_name})\n",
    "    \n",
    "    return df\n",
    "\n",
    "\n",
    "def get_all_files_to_write(files_in_excel, files_indexed, column_name):\n",
    "    return pd.DataFrame(data = files_in_excel + files_indexed, columns = column_name)\n",
    "\n",
    "\n",
    "def main(path, folder_name, excel_file_path):\n",
    "\n",
    "    files_in_excel = read_excel_specific_sheet(excel_file_path, excel_sheet_name=folder_name)\n",
    "\n",
    "    files_in_excel = files_in_excel[folder_name].values.tolist()\n",
    "\n",
    "    files_indexed = index_files(path = path, stored_files = files_in_excel)\n",
    "\n",
    "    files_indexed = files_indexed[folder_name].values.tolist()\n",
    "\n",
    "    files_to_write = get_all_files_to_write(\n",
    "        files_in_excel = files_in_excel,\n",
    "        files_indexed = files_indexed,\n",
    "        column_name = [folder_name]\n",
    "\n",
    "    )\n",
    "    \n",
    "    return files_to_write\n",
    "\n",
    "\n",
    "def final_cleanup():\n",
    "    os.remove(EXCEL_FILE_PATH)\n",
    "    os.rename(EXCEL_FILE_PATH_TEMP, EXCEL_FILE_PATH)"
   ]
  },
  {
   "cell_type": "code",
   "execution_count": 10,
   "id": "6bb41cd1",
   "metadata": {},
   "outputs": [],
   "source": [
    "with pd.ExcelWriter(EXCEL_FILE_PATH_TEMP) as writer:\n",
    "    \n",
    "    for folder_name in [\"folder_1\", \"folder_2\", \"folder_3\"]:\n",
    "        \n",
    "        path = os.path.join(PATH_TO_INDEX, folder_name)\n",
    "        \n",
    "        file_to_write = main(\n",
    "            path = path,\n",
    "            folder_name = folder_name,\n",
    "            excel_file_path = EXCEL_FILE_PATH\n",
    "        )\n",
    "        \n",
    "        file_to_write.to_excel(writer, sheet_name = folder_name)"
   ]
  },
  {
   "cell_type": "code",
   "execution_count": 11,
   "id": "693f9d36",
   "metadata": {},
   "outputs": [],
   "source": [
    "final_cleanup()"
   ]
  },
  {
   "cell_type": "code",
   "execution_count": null,
   "id": "065f9fab",
   "metadata": {},
   "outputs": [],
   "source": []
  }
 ],
 "metadata": {
  "kernelspec": {
   "display_name": "env_skrub",
   "language": "python",
   "name": "env_skrub"
  },
  "language_info": {
   "codemirror_mode": {
    "name": "ipython",
    "version": 3
   },
   "file_extension": ".py",
   "mimetype": "text/x-python",
   "name": "python",
   "nbconvert_exporter": "python",
   "pygments_lexer": "ipython3",
   "version": "3.10.14"
  }
 },
 "nbformat": 4,
 "nbformat_minor": 5
}
