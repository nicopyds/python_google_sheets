{
 "cells": [
  {
   "cell_type": "code",
   "execution_count": 1,
   "id": "eaca08b6",
   "metadata": {},
   "outputs": [],
   "source": [
    "import os\n",
    "import pandas as pd"
   ]
  },
  {
   "cell_type": "code",
   "execution_count": 2,
   "id": "146b5121",
   "metadata": {},
   "outputs": [],
   "source": [
    "CWD = os.getcwd()\n",
    "PATH_TO_INDEX = os.path.join(CWD, \"folders\")"
   ]
  },
  {
   "cell_type": "code",
   "execution_count": 3,
   "id": "8c99b773",
   "metadata": {},
   "outputs": [
    {
     "data": {
      "text/plain": [
       "'/Users/nicolaepopescul/Desktop/streams/20240407_python_google_sheets'"
      ]
     },
     "execution_count": 3,
     "metadata": {},
     "output_type": "execute_result"
    }
   ],
   "source": [
    "CWD"
   ]
  },
  {
   "cell_type": "code",
   "execution_count": 4,
   "id": "17b91f75",
   "metadata": {},
   "outputs": [
    {
     "data": {
      "text/plain": [
       "'/Users/nicolaepopescul/Desktop/streams/20240407_python_google_sheets/folders'"
      ]
     },
     "execution_count": 4,
     "metadata": {},
     "output_type": "execute_result"
    }
   ],
   "source": [
    "PATH_TO_INDEX"
   ]
  },
  {
   "cell_type": "code",
   "execution_count": 5,
   "id": "ca50aa2d",
   "metadata": {},
   "outputs": [],
   "source": [
    "data1 = [1, 2, 3]\n",
    "data2 = [3, 4, 5]\n",
    "data3 = [6, 7, 8]"
   ]
  },
  {
   "cell_type": "code",
   "execution_count": 6,
   "id": "fbf93699",
   "metadata": {},
   "outputs": [],
   "source": [
    "df1 = pd.DataFrame(data1).rename(columns={0:\"folder_1\"})\n",
    "df2 = pd.DataFrame(data2).rename(columns={0:\"folder_2\"})\n",
    "df3 = pd.DataFrame(data3).rename(columns={0:\"folder_3\"})"
   ]
  },
  {
   "cell_type": "code",
   "execution_count": 7,
   "id": "e3bc5721",
   "metadata": {},
   "outputs": [],
   "source": [
    "with pd.ExcelWriter(\"agg.xlsx\") as writer:\n",
    "    df1.to_excel(writer, sheet_name=\"folder_1\", index=False)\n",
    "    df2.to_excel(writer, sheet_name=\"folder_2\", index=False)\n",
    "    df3.to_excel(writer, sheet_name=\"folder_3\", index=False)"
   ]
  },
  {
   "cell_type": "code",
   "execution_count": 8,
   "id": "b7621499",
   "metadata": {},
   "outputs": [],
   "source": [
    "df = pd.read_excel(\"agg.xlsx\")"
   ]
  },
  {
   "cell_type": "code",
   "execution_count": 9,
   "id": "5c49fa3b",
   "metadata": {},
   "outputs": [
    {
     "data": {
      "text/html": [
       "<div>\n",
       "<style scoped>\n",
       "    .dataframe tbody tr th:only-of-type {\n",
       "        vertical-align: middle;\n",
       "    }\n",
       "\n",
       "    .dataframe tbody tr th {\n",
       "        vertical-align: top;\n",
       "    }\n",
       "\n",
       "    .dataframe thead th {\n",
       "        text-align: right;\n",
       "    }\n",
       "</style>\n",
       "<table border=\"1\" class=\"dataframe\">\n",
       "  <thead>\n",
       "    <tr style=\"text-align: right;\">\n",
       "      <th></th>\n",
       "      <th>folder_1</th>\n",
       "    </tr>\n",
       "  </thead>\n",
       "  <tbody>\n",
       "    <tr>\n",
       "      <th>0</th>\n",
       "      <td>1</td>\n",
       "    </tr>\n",
       "    <tr>\n",
       "      <th>1</th>\n",
       "      <td>2</td>\n",
       "    </tr>\n",
       "    <tr>\n",
       "      <th>2</th>\n",
       "      <td>3</td>\n",
       "    </tr>\n",
       "  </tbody>\n",
       "</table>\n",
       "</div>"
      ],
      "text/plain": [
       "   folder_1\n",
       "0         1\n",
       "1         2\n",
       "2         3"
      ]
     },
     "execution_count": 9,
     "metadata": {},
     "output_type": "execute_result"
    }
   ],
   "source": [
    "df"
   ]
  },
  {
   "cell_type": "code",
   "execution_count": 10,
   "id": "5441f1e7",
   "metadata": {},
   "outputs": [],
   "source": [
    "df = pd.read_excel(\"agg.xlsx\", sheet_name = None)"
   ]
  },
  {
   "cell_type": "code",
   "execution_count": 11,
   "id": "8529cf98",
   "metadata": {},
   "outputs": [
    {
     "data": {
      "text/plain": [
       "dict"
      ]
     },
     "execution_count": 11,
     "metadata": {},
     "output_type": "execute_result"
    }
   ],
   "source": [
    "type(df)"
   ]
  },
  {
   "cell_type": "code",
   "execution_count": 12,
   "id": "1cddbddf",
   "metadata": {},
   "outputs": [
    {
     "data": {
      "text/plain": [
       "{'folder_1':    folder_1\n",
       " 0         1\n",
       " 1         2\n",
       " 2         3,\n",
       " 'folder_2':    folder_2\n",
       " 0         3\n",
       " 1         4\n",
       " 2         5,\n",
       " 'folder_3':    folder_3\n",
       " 0         6\n",
       " 1         7\n",
       " 2         8}"
      ]
     },
     "execution_count": 12,
     "metadata": {},
     "output_type": "execute_result"
    }
   ],
   "source": [
    "df"
   ]
  },
  {
   "cell_type": "code",
   "execution_count": 13,
   "id": "5724bc96",
   "metadata": {},
   "outputs": [
    {
     "data": {
      "text/plain": [
       "'/Users/nicolaepopescul/Desktop/streams/20240407_python_google_sheets/folders'"
      ]
     },
     "execution_count": 13,
     "metadata": {},
     "output_type": "execute_result"
    }
   ],
   "source": [
    "PATH_TO_INDEX"
   ]
  },
  {
   "cell_type": "code",
   "execution_count": 14,
   "id": "a7b39af9",
   "metadata": {},
   "outputs": [
    {
     "name": "stdout",
     "output_type": "stream",
     "text": [
      "dir_path /Users/nicolaepopescul/Desktop/streams/20240407_python_google_sheets/folders\n",
      "subdirs_path ['folder_2', 'folder_3', 'folder_1']\n",
      "files ['.DS_Store']\n",
      "----------------------------------------\n",
      "dir_path /Users/nicolaepopescul/Desktop/streams/20240407_python_google_sheets/folders/folder_2\n",
      "subdirs_path []\n",
      "files ['file6.pdf', 'file4.pdf', 'file5.pdf']\n",
      "----------------------------------------\n",
      "dir_path /Users/nicolaepopescul/Desktop/streams/20240407_python_google_sheets/folders/folder_3\n",
      "subdirs_path []\n",
      "files ['file7.pdf', 'file8.pdf', 'file9.pdf']\n",
      "----------------------------------------\n",
      "dir_path /Users/nicolaepopescul/Desktop/streams/20240407_python_google_sheets/folders/folder_1\n",
      "subdirs_path []\n",
      "files ['file1.pdf', 'file2.pdf', 'file3.pdf']\n",
      "----------------------------------------\n"
     ]
    }
   ],
   "source": [
    "for dir_path, subdirs_path, files in os.walk(PATH_TO_INDEX):\n",
    "    print(f\"dir_path {dir_path}\")\n",
    "    print(f\"subdirs_path {subdirs_path}\")\n",
    "    print(f\"files {files}\")\n",
    "    print(\"--------\"*5)"
   ]
  },
  {
   "cell_type": "code",
   "execution_count": 15,
   "id": "d2f9dc3d",
   "metadata": {},
   "outputs": [],
   "source": [
    "indexed_files = []\n",
    "\n",
    "for dir_path, subdirs_path, files in os.walk(PATH_TO_INDEX):\n",
    "    for file in files:\n",
    "        file_path = os.path.join(dir_path, file)\n",
    "        indexed_files.append(file_path)"
   ]
  },
  {
   "cell_type": "code",
   "execution_count": 16,
   "id": "a34fe544",
   "metadata": {},
   "outputs": [
    {
     "data": {
      "text/plain": [
       "['/Users/nicolaepopescul/Desktop/streams/20240407_python_google_sheets/folders/.DS_Store',\n",
       " '/Users/nicolaepopescul/Desktop/streams/20240407_python_google_sheets/folders/folder_2/file6.pdf',\n",
       " '/Users/nicolaepopescul/Desktop/streams/20240407_python_google_sheets/folders/folder_2/file4.pdf',\n",
       " '/Users/nicolaepopescul/Desktop/streams/20240407_python_google_sheets/folders/folder_2/file5.pdf',\n",
       " '/Users/nicolaepopescul/Desktop/streams/20240407_python_google_sheets/folders/folder_3/file7.pdf',\n",
       " '/Users/nicolaepopescul/Desktop/streams/20240407_python_google_sheets/folders/folder_3/file8.pdf',\n",
       " '/Users/nicolaepopescul/Desktop/streams/20240407_python_google_sheets/folders/folder_3/file9.pdf',\n",
       " '/Users/nicolaepopescul/Desktop/streams/20240407_python_google_sheets/folders/folder_1/file1.pdf',\n",
       " '/Users/nicolaepopescul/Desktop/streams/20240407_python_google_sheets/folders/folder_1/file2.pdf',\n",
       " '/Users/nicolaepopescul/Desktop/streams/20240407_python_google_sheets/folders/folder_1/file3.pdf']"
      ]
     },
     "execution_count": 16,
     "metadata": {},
     "output_type": "execute_result"
    }
   ],
   "source": [
    "indexed_files"
   ]
  },
  {
   "cell_type": "code",
   "execution_count": 35,
   "id": "e290f82b",
   "metadata": {},
   "outputs": [],
   "source": [
    "def index_files(path):\n",
    "    folder_name = path.split(\"/\")[-1]\n",
    "    files = os.listdir(path = path)\n",
    "    df = pd.DataFrame(files).rename(columns = {0:folder_name})\n",
    "    return df"
   ]
  },
  {
   "cell_type": "code",
   "execution_count": 36,
   "id": "baafda5f",
   "metadata": {},
   "outputs": [],
   "source": [
    "path = os.path.join(PATH_TO_INDEX, \"folder_1\")"
   ]
  },
  {
   "cell_type": "code",
   "execution_count": 37,
   "id": "24fa6889",
   "metadata": {},
   "outputs": [
    {
     "data": {
      "text/plain": [
       "'folder_1'"
      ]
     },
     "execution_count": 37,
     "metadata": {},
     "output_type": "execute_result"
    }
   ],
   "source": [
    "path.split(\"/\")[-1]"
   ]
  },
  {
   "cell_type": "code",
   "execution_count": 38,
   "id": "864484fc",
   "metadata": {},
   "outputs": [],
   "source": [
    "files_ = index_files(path = path)"
   ]
  },
  {
   "cell_type": "code",
   "execution_count": 28,
   "id": "b87b8911",
   "metadata": {},
   "outputs": [],
   "source": [
    "df = pd.read_excel(\"agg.xlsx\", sheet_name=None)"
   ]
  },
  {
   "cell_type": "code",
   "execution_count": 30,
   "id": "bcdc1bae",
   "metadata": {},
   "outputs": [
    {
     "data": {
      "text/html": [
       "<div>\n",
       "<style scoped>\n",
       "    .dataframe tbody tr th:only-of-type {\n",
       "        vertical-align: middle;\n",
       "    }\n",
       "\n",
       "    .dataframe tbody tr th {\n",
       "        vertical-align: top;\n",
       "    }\n",
       "\n",
       "    .dataframe thead th {\n",
       "        text-align: right;\n",
       "    }\n",
       "</style>\n",
       "<table border=\"1\" class=\"dataframe\">\n",
       "  <thead>\n",
       "    <tr style=\"text-align: right;\">\n",
       "      <th></th>\n",
       "      <th>folder_1</th>\n",
       "    </tr>\n",
       "  </thead>\n",
       "  <tbody>\n",
       "    <tr>\n",
       "      <th>0</th>\n",
       "      <td>1</td>\n",
       "    </tr>\n",
       "    <tr>\n",
       "      <th>1</th>\n",
       "      <td>2</td>\n",
       "    </tr>\n",
       "    <tr>\n",
       "      <th>2</th>\n",
       "      <td>3</td>\n",
       "    </tr>\n",
       "  </tbody>\n",
       "</table>\n",
       "</div>"
      ],
      "text/plain": [
       "   folder_1\n",
       "0         1\n",
       "1         2\n",
       "2         3"
      ]
     },
     "execution_count": 30,
     "metadata": {},
     "output_type": "execute_result"
    }
   ],
   "source": [
    "df[\"folder_1\"]"
   ]
  },
  {
   "cell_type": "code",
   "execution_count": 40,
   "id": "9cf0a892",
   "metadata": {},
   "outputs": [
    {
     "data": {
      "text/html": [
       "<div>\n",
       "<style scoped>\n",
       "    .dataframe tbody tr th:only-of-type {\n",
       "        vertical-align: middle;\n",
       "    }\n",
       "\n",
       "    .dataframe tbody tr th {\n",
       "        vertical-align: top;\n",
       "    }\n",
       "\n",
       "    .dataframe thead th {\n",
       "        text-align: right;\n",
       "    }\n",
       "</style>\n",
       "<table border=\"1\" class=\"dataframe\">\n",
       "  <thead>\n",
       "    <tr style=\"text-align: right;\">\n",
       "      <th></th>\n",
       "      <th>folder_1</th>\n",
       "    </tr>\n",
       "  </thead>\n",
       "  <tbody>\n",
       "    <tr>\n",
       "      <th>0</th>\n",
       "      <td>file1.pdf</td>\n",
       "    </tr>\n",
       "    <tr>\n",
       "      <th>1</th>\n",
       "      <td>file2.pdf</td>\n",
       "    </tr>\n",
       "    <tr>\n",
       "      <th>2</th>\n",
       "      <td>file3.pdf</td>\n",
       "    </tr>\n",
       "  </tbody>\n",
       "</table>\n",
       "</div>"
      ],
      "text/plain": [
       "    folder_1\n",
       "0  file1.pdf\n",
       "1  file2.pdf\n",
       "2  file3.pdf"
      ]
     },
     "execution_count": 40,
     "metadata": {},
     "output_type": "execute_result"
    }
   ],
   "source": [
    "files_"
   ]
  },
  {
   "cell_type": "code",
   "execution_count": 43,
   "id": "25751cdd",
   "metadata": {},
   "outputs": [],
   "source": [
    "files_to_write = pd.concat([df[\"folder_1\"], files_], axis = 0)"
   ]
  },
  {
   "cell_type": "code",
   "execution_count": 45,
   "id": "8a92fe03",
   "metadata": {},
   "outputs": [],
   "source": [
    "with pd.ExcelWriter(\"agg.xlsx\") as writer:\n",
    "    files_to_write.to_excel(writer, sheet_name = \"folder_1\")"
   ]
  },
  {
   "cell_type": "code",
   "execution_count": null,
   "id": "35e7c28c",
   "metadata": {},
   "outputs": [],
   "source": []
  }
 ],
 "metadata": {
  "kernelspec": {
   "display_name": "env_skrub",
   "language": "python",
   "name": "env_skrub"
  },
  "language_info": {
   "codemirror_mode": {
    "name": "ipython",
    "version": 3
   },
   "file_extension": ".py",
   "mimetype": "text/x-python",
   "name": "python",
   "nbconvert_exporter": "python",
   "pygments_lexer": "ipython3",
   "version": "3.10.14"
  }
 },
 "nbformat": 4,
 "nbformat_minor": 5
}
