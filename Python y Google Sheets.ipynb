{
 "cells": [
  {
   "cell_type": "code",
   "execution_count": 1,
   "id": "df96f2b2",
   "metadata": {},
   "outputs": [],
   "source": [
    "import os\n",
    "import pandas as pd"
   ]
  },
  {
   "cell_type": "code",
   "execution_count": 2,
   "id": "0f963925",
   "metadata": {},
   "outputs": [],
   "source": [
    "from helpers import create_dummy_xslx_file"
   ]
  },
  {
   "cell_type": "code",
   "execution_count": 18,
   "id": "f7d1bb76",
   "metadata": {},
   "outputs": [],
   "source": [
    "create_dummy_xslx_file()"
   ]
  },
  {
   "cell_type": "code",
   "execution_count": 4,
   "id": "e2480cc7",
   "metadata": {},
   "outputs": [],
   "source": [
    "CWD = os.getcwd()\n",
    "PATH_TO_INDEX = os.path.join(CWD, \"folders\")"
   ]
  },
  {
   "cell_type": "code",
   "execution_count": 5,
   "id": "769b8c1a",
   "metadata": {},
   "outputs": [],
   "source": [
    "def read_excel_specific_sheet(excel_path, excel_sheet_name):\n",
    "    \n",
    "    df = pd.read_excel(excel_path, sheet_name = excel_sheet_name)\n",
    "    \n",
    "    return df"
   ]
  },
  {
   "cell_type": "code",
   "execution_count": 6,
   "id": "3ff78244",
   "metadata": {},
   "outputs": [],
   "source": [
    "def index_files(path, stored_files = []):\n",
    "    \n",
    "    folder_name = path.split(\"/\")[-1]\n",
    "    files = [file for file in os.listdir(path = path) if file not in stored_files]\n",
    "    df = pd.DataFrame(files).rename(columns = {0:folder_name})\n",
    "    \n",
    "    return df"
   ]
  },
  {
   "cell_type": "code",
   "execution_count": 7,
   "id": "c604da33",
   "metadata": {},
   "outputs": [],
   "source": [
    "def get_all_files_to_write(files_in_excel, files_indexed, column_name):\n",
    "    return pd.DataFrame(data = files_in_excel + files_indexed, columns = column_name)"
   ]
  },
  {
   "cell_type": "code",
   "execution_count": 8,
   "id": "d108761d",
   "metadata": {},
   "outputs": [],
   "source": [
    "def main(path, folder_name):\n",
    "\n",
    "    files_in_excel = read_excel_specific_sheet(\"agg.xlsx\", excel_sheet_name=folder_name)\n",
    "\n",
    "    files_in_excel = files_in_excel[folder_name].values.tolist()\n",
    "\n",
    "    files_indexed = index_files(path = path, stored_files = files_in_excel)\n",
    "\n",
    "    files_indexed = files_indexed[folder_name].values.tolist()\n",
    "\n",
    "    files_to_write = get_all_files_to_write(\n",
    "        files_in_excel = files_in_excel,\n",
    "        files_indexed = files_indexed,\n",
    "        column_name = [folder_name]\n",
    "\n",
    "    )\n",
    "    \n",
    "    return files_to_write"
   ]
  },
  {
   "cell_type": "code",
   "execution_count": 9,
   "id": "123a83ef",
   "metadata": {},
   "outputs": [],
   "source": [
    "folder_name = \"folder_3\"\n",
    "path = os.path.join(PATH_TO_INDEX, folder_name)\n",
    "file_to_write = main(path, folder_name)"
   ]
  },
  {
   "cell_type": "code",
   "execution_count": 17,
   "id": "e4bd8d24",
   "metadata": {},
   "outputs": [],
   "source": [
    "# writer = pd.ExcelWriter(\"agg.xlsx\")"
   ]
  },
  {
   "cell_type": "code",
   "execution_count": 20,
   "id": "c49c49cb",
   "metadata": {
    "scrolled": false
   },
   "outputs": [],
   "source": [
    "with pd.ExcelWriter(\"agg_.xlsx\") as writer:\n",
    "    \n",
    "    for folder_name in [\"folder_1\", \"folder_2\", \"folder_3\"]:\n",
    "        \n",
    "        path = os.path.join(PATH_TO_INDEX, folder_name)\n",
    "        file_to_write = main(path, folder_name)\n",
    "        \n",
    "        file_to_write.to_excel(writer, sheet_name = folder_name)\n",
    "    "
   ]
  },
  {
   "cell_type": "code",
   "execution_count": 21,
   "id": "2925b68b",
   "metadata": {},
   "outputs": [],
   "source": [
    "import shutil"
   ]
  },
  {
   "cell_type": "code",
   "execution_count": null,
   "id": "94a7eff5",
   "metadata": {},
   "outputs": [],
   "source": [
    "shutil.rmtree()"
   ]
  }
 ],
 "metadata": {
  "kernelspec": {
   "display_name": "env_skrub",
   "language": "python",
   "name": "env_skrub"
  },
  "language_info": {
   "codemirror_mode": {
    "name": "ipython",
    "version": 3
   },
   "file_extension": ".py",
   "mimetype": "text/x-python",
   "name": "python",
   "nbconvert_exporter": "python",
   "pygments_lexer": "ipython3",
   "version": "3.10.14"
  }
 },
 "nbformat": 4,
 "nbformat_minor": 5
}
